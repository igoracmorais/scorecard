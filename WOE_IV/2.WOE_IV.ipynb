{
 "cells": [
  {
   "cell_type": "markdown",
   "metadata": {},
   "source": [
    "Esse notebook tem como objetivo explicar os conceitos e a aplicação do WOE e IV no processo de elaboração de um credit score."
   ]
  },
  {
   "cell_type": "markdown",
   "metadata": {},
   "source": [
    "## 1. Importando as bibliotecas"
   ]
  },
  {
   "cell_type": "code",
   "execution_count": 1,
   "metadata": {},
   "outputs": [
    {
     "data": {
      "text/plain": [
       "'/Users/igoracmorais/igor/4labs/consulting/score_credito/explicando_scorecard'"
      ]
     },
     "execution_count": 1,
     "metadata": {},
     "output_type": "execute_result"
    }
   ],
   "source": [
    "import pandas as pd\n",
    "import numpy as np\n",
    "import os\n",
    "import time\n",
    "import matplotlib.pyplot as plt\n",
    "%matplotlib inline\n",
    "import seaborn as sns\n",
    "from IPython.display import Image\n",
    "import warnings\n",
    "warnings.filterwarnings(\"ignore\")\n",
    "pd.set_option('display.max_columns',None)\n",
    "diretorio=os.getcwd()\n",
    "diretorio"
   ]
  },
  {
   "cell_type": "markdown",
   "metadata": {},
   "source": [
    "## 2. Dados\n",
    "Os dados usados aqui são os salvos no notebook 1 após o preenchimento dos nulos."
   ]
  },
  {
   "cell_type": "code",
   "execution_count": 2,
   "metadata": {},
   "outputs": [
    {
     "name": "stdout",
     "output_type": "stream",
     "text": [
      "(1000, 10)\n"
     ]
    },
    {
     "data": {
      "text/html": [
       "<div>\n",
       "<style scoped>\n",
       "    .dataframe tbody tr th:only-of-type {\n",
       "        vertical-align: middle;\n",
       "    }\n",
       "\n",
       "    .dataframe tbody tr th {\n",
       "        vertical-align: top;\n",
       "    }\n",
       "\n",
       "    .dataframe thead th {\n",
       "        text-align: right;\n",
       "    }\n",
       "</style>\n",
       "<table border=\"1\" class=\"dataframe\">\n",
       "  <thead>\n",
       "    <tr style=\"text-align: right;\">\n",
       "      <th></th>\n",
       "      <th>Age</th>\n",
       "      <th>Sex</th>\n",
       "      <th>Job</th>\n",
       "      <th>Housing</th>\n",
       "      <th>Saving accounts</th>\n",
       "      <th>Checking account</th>\n",
       "      <th>Credit amount</th>\n",
       "      <th>Duration</th>\n",
       "      <th>Purpose</th>\n",
       "      <th>default</th>\n",
       "    </tr>\n",
       "  </thead>\n",
       "  <tbody>\n",
       "    <tr>\n",
       "      <th>0</th>\n",
       "      <td>67</td>\n",
       "      <td>male</td>\n",
       "      <td>2</td>\n",
       "      <td>own</td>\n",
       "      <td>little</td>\n",
       "      <td>little</td>\n",
       "      <td>1169</td>\n",
       "      <td>6</td>\n",
       "      <td>radio/TV</td>\n",
       "      <td>yes</td>\n",
       "    </tr>\n",
       "    <tr>\n",
       "      <th>1</th>\n",
       "      <td>22</td>\n",
       "      <td>female</td>\n",
       "      <td>2</td>\n",
       "      <td>own</td>\n",
       "      <td>little</td>\n",
       "      <td>moderate</td>\n",
       "      <td>5951</td>\n",
       "      <td>48</td>\n",
       "      <td>radio/TV</td>\n",
       "      <td>no</td>\n",
       "    </tr>\n",
       "  </tbody>\n",
       "</table>\n",
       "</div>"
      ],
      "text/plain": [
       "   Age     Sex  Job Housing Saving accounts Checking account  Credit amount  \\\n",
       "0   67    male    2     own          little           little           1169   \n",
       "1   22  female    2     own          little         moderate           5951   \n",
       "\n",
       "   Duration   Purpose default  \n",
       "0         6  radio/TV     yes  \n",
       "1        48  radio/TV      no  "
      ]
     },
     "execution_count": 2,
     "metadata": {},
     "output_type": "execute_result"
    }
   ],
   "source": [
    "df = pd.read_csv('german_credit_data2.csv',index_col=0)\n",
    "print(df.shape)\n",
    "df.head(2)"
   ]
  },
  {
   "cell_type": "markdown",
   "metadata": {},
   "source": [
    "## Parte 1. Fazendo o WOE \"na mão\""
   ]
  },
  {
   "cell_type": "markdown",
   "metadata": {},
   "source": [
    "O WOE mede o poder de previsao de uma variavel independente considerando que a variavel objetivo é dividida em classes. Nesse caso, as variveis continuas, como renda e idade, por exemplo, sao transformadas em intervalos. A seguir, o WoE é aplicado para cada um dos intervalos. O mesmo é feito para variaveis categoricas.  <br> \n",
    "Para calcular o WoE fazemos: <br>\n",
    "![](woe.png)"
   ]
  },
  {
   "cell_type": "markdown",
   "metadata": {},
   "source": [
    "onde:\n",
    "WoE >0 : a proporcao de bons pagadores é maior que de mal pagadores. <br>\n",
    "Algumas regras de criacao de intervalos:\n",
    "1. cada intervalo deve ter ao menos 5% dos dados.  Significa criar de 5-10 intervalos.\n",
    "2. cada categoria deve ter seu WoE e aquelas que sao similares, devem ser analisadas em conjunto\n",
    "3. o WOE deve ser monotonico: seja crescente ou então decrescente\n",
    "4. Valores missing sao analisados separadamente (podemos combinar isso com RF) ou então fazer o preenchimento anteriormente"
   ]
  },
  {
   "cell_type": "markdown",
   "metadata": {},
   "source": [
    "Antes de seguirmos vamos aprender alguns comandos que serao uteis para construir a formula do WOE:"
   ]
  },
  {
   "cell_type": "markdown",
   "metadata": {},
   "source": [
    "#### Comando Append\n",
    "Esse comando é muito util quando usamos um loop para anexar dados a um banco de dados. Imagine o conjunto de dados a seguir com apenas 3 linhas."
   ]
  },
  {
   "cell_type": "code",
   "execution_count": 3,
   "metadata": {},
   "outputs": [
    {
     "data": {
      "text/html": [
       "<div>\n",
       "<style scoped>\n",
       "    .dataframe tbody tr th:only-of-type {\n",
       "        vertical-align: middle;\n",
       "    }\n",
       "\n",
       "    .dataframe tbody tr th {\n",
       "        vertical-align: top;\n",
       "    }\n",
       "\n",
       "    .dataframe thead th {\n",
       "        text-align: right;\n",
       "    }\n",
       "</style>\n",
       "<table border=\"1\" class=\"dataframe\">\n",
       "  <thead>\n",
       "    <tr style=\"text-align: right;\">\n",
       "      <th></th>\n",
       "      <th>A</th>\n",
       "      <th>B</th>\n",
       "    </tr>\n",
       "  </thead>\n",
       "  <tbody>\n",
       "    <tr>\n",
       "      <th>0</th>\n",
       "      <td>a</td>\n",
       "      <td>4.9</td>\n",
       "    </tr>\n",
       "    <tr>\n",
       "      <th>1</th>\n",
       "      <td>10.0</td>\n",
       "      <td>5.0</td>\n",
       "    </tr>\n",
       "    <tr>\n",
       "      <th>2</th>\n",
       "      <td>NaN</td>\n",
       "      <td>6.0</td>\n",
       "    </tr>\n",
       "  </tbody>\n",
       "</table>\n",
       "</div>"
      ],
      "text/plain": [
       "      A    B\n",
       "0     a  4.9\n",
       "1  10.0  5.0\n",
       "2   NaN  6.0"
      ]
     },
     "execution_count": 3,
     "metadata": {},
     "output_type": "execute_result"
    }
   ],
   "source": [
    "dataset=pd.DataFrame({'A':['a',10.0,np.nan],\"B\":[4.9,5,6]})\n",
    "dataset"
   ]
  },
  {
   "cell_type": "markdown",
   "metadata": {},
   "source": [
    "Para anexar uma nova linha, podemos usar o comando \"append\" da seguinte forma:"
   ]
  },
  {
   "cell_type": "code",
   "execution_count": 13,
   "metadata": {},
   "outputs": [
    {
     "data": {
      "text/html": [
       "<div>\n",
       "<style scoped>\n",
       "    .dataframe tbody tr th:only-of-type {\n",
       "        vertical-align: middle;\n",
       "    }\n",
       "\n",
       "    .dataframe tbody tr th {\n",
       "        vertical-align: top;\n",
       "    }\n",
       "\n",
       "    .dataframe thead th {\n",
       "        text-align: right;\n",
       "    }\n",
       "</style>\n",
       "<table border=\"1\" class=\"dataframe\">\n",
       "  <thead>\n",
       "    <tr style=\"text-align: right;\">\n",
       "      <th></th>\n",
       "      <th>A</th>\n",
       "      <th>B</th>\n",
       "    </tr>\n",
       "  </thead>\n",
       "  <tbody>\n",
       "    <tr>\n",
       "      <th>0</th>\n",
       "      <td>a</td>\n",
       "      <td>4.9</td>\n",
       "    </tr>\n",
       "    <tr>\n",
       "      <th>1</th>\n",
       "      <td>10.0</td>\n",
       "      <td>5.0</td>\n",
       "    </tr>\n",
       "    <tr>\n",
       "      <th>2</th>\n",
       "      <td>NaN</td>\n",
       "      <td>6.0</td>\n",
       "    </tr>\n",
       "    <tr>\n",
       "      <th>3</th>\n",
       "      <td>v</td>\n",
       "      <td>7.0</td>\n",
       "    </tr>\n",
       "  </tbody>\n",
       "</table>\n",
       "</div>"
      ],
      "text/plain": [
       "      A    B\n",
       "0     a  4.9\n",
       "1  10.0  5.0\n",
       "2   NaN  6.0\n",
       "3     v  7.0"
      ]
     },
     "execution_count": 13,
     "metadata": {},
     "output_type": "execute_result"
    }
   ],
   "source": [
    "dataset=dataset.append({'A':'v','B':7},ignore_index=True)\n",
    "dataset"
   ]
  },
  {
   "cell_type": "markdown",
   "metadata": {},
   "source": [
    "Agora imagine que queremos anexar mais de uma linha. Nesse caso podemos fazer um loop para anexar (append) mais dados. No exemplo a seguir, construímos uma lista anexando dados dee forma sequencial:"
   ]
  },
  {
   "cell_type": "code",
   "execution_count": 4,
   "metadata": {},
   "outputs": [
    {
     "data": {
      "text/plain": [
       "[0, 1, 2, 3, 4]"
      ]
     },
     "execution_count": 4,
     "metadata": {},
     "output_type": "execute_result"
    }
   ],
   "source": [
    "lista=[]\n",
    "for a in range(0,5):\n",
    "    lista.append(a)\n",
    "lista"
   ]
  },
  {
   "cell_type": "markdown",
   "metadata": {},
   "source": [
    "Agora podemos fazer isso e criar um banco de dados do tipo pandas"
   ]
  },
  {
   "cell_type": "code",
   "execution_count": 5,
   "metadata": {},
   "outputs": [
    {
     "data": {
      "text/html": [
       "<div>\n",
       "<style scoped>\n",
       "    .dataframe tbody tr th:only-of-type {\n",
       "        vertical-align: middle;\n",
       "    }\n",
       "\n",
       "    .dataframe tbody tr th {\n",
       "        vertical-align: top;\n",
       "    }\n",
       "\n",
       "    .dataframe thead th {\n",
       "        text-align: right;\n",
       "    }\n",
       "</style>\n",
       "<table border=\"1\" class=\"dataframe\">\n",
       "  <thead>\n",
       "    <tr style=\"text-align: right;\">\n",
       "      <th></th>\n",
       "      <th>coluna1</th>\n",
       "      <th>coluna2</th>\n",
       "    </tr>\n",
       "  </thead>\n",
       "  <tbody>\n",
       "    <tr>\n",
       "      <th>0</th>\n",
       "      <td>0</td>\n",
       "      <td>1</td>\n",
       "    </tr>\n",
       "    <tr>\n",
       "      <th>1</th>\n",
       "      <td>1</td>\n",
       "      <td>2</td>\n",
       "    </tr>\n",
       "    <tr>\n",
       "      <th>2</th>\n",
       "      <td>2</td>\n",
       "      <td>3</td>\n",
       "    </tr>\n",
       "    <tr>\n",
       "      <th>3</th>\n",
       "      <td>3</td>\n",
       "      <td>4</td>\n",
       "    </tr>\n",
       "    <tr>\n",
       "      <th>4</th>\n",
       "      <td>4</td>\n",
       "      <td>5</td>\n",
       "    </tr>\n",
       "  </tbody>\n",
       "</table>\n",
       "</div>"
      ],
      "text/plain": [
       "   coluna1  coluna2\n",
       "0        0        1\n",
       "1        1        2\n",
       "2        2        3\n",
       "3        3        4\n",
       "4        4        5"
      ]
     },
     "execution_count": 5,
     "metadata": {},
     "output_type": "execute_result"
    }
   ],
   "source": [
    "lista2=[]\n",
    "for b in range(0,5):\n",
    "    lista2.append({\n",
    "        'coluna1':b,\n",
    "        'coluna2':b+1\n",
    "    })\n",
    "lista2=pd.DataFrame(lista2)\n",
    "lista2"
   ]
  },
  {
   "cell_type": "markdown",
   "metadata": {},
   "source": [
    "#### Passos para a construcao do WOE:\n",
    "A construção dassa estatística fica mais facil de ser entendida se quebrarmos ela em dez passos como mostrado abaixo. Primeiro apresentamos os cinco passos iniciais:"
   ]
  },
  {
   "cell_type": "markdown",
   "metadata": {},
   "source": [
    "1. selecionar a variavel independente que vai ser analisada\n",
    "2. descobrir quantas caracteristicas tem nessa variavel\n",
    "3. quantas vezes aparece a caracteristica (F/M)\n",
    "4. quantas vezes aparece o resultado (BOM/MAL) para aquela caracteristica\n",
    "5. criar um dataset"
   ]
  },
  {
   "cell_type": "markdown",
   "metadata": {},
   "source": [
    "#### Passo 1. Selecionar a variavel independente"
   ]
  },
  {
   "cell_type": "code",
   "execution_count": 6,
   "metadata": {},
   "outputs": [],
   "source": [
    "df2_=df[['Sex','default']]"
   ]
  },
  {
   "cell_type": "markdown",
   "metadata": {},
   "source": [
    "#### Passo 2. descobrir quantas caracteristicas tem nessa variavel"
   ]
  },
  {
   "cell_type": "code",
   "execution_count": 7,
   "metadata": {},
   "outputs": [
    {
     "data": {
      "text/plain": [
       "2"
      ]
     },
     "execution_count": 7,
     "metadata": {},
     "output_type": "execute_result"
    }
   ],
   "source": [
    "carac=df2_['Sex'].nunique()\n",
    "carac"
   ]
  },
  {
   "cell_type": "markdown",
   "metadata": {},
   "source": [
    "#### Passo 3. Ver a frequencia das características"
   ]
  },
  {
   "cell_type": "code",
   "execution_count": 8,
   "metadata": {},
   "outputs": [
    {
     "data": {
      "text/plain": [
       "690"
      ]
     },
     "execution_count": 8,
     "metadata": {},
     "output_type": "execute_result"
    }
   ],
   "source": [
    "val=df2_['Sex'].unique()[0]  #caracteristica male\n",
    "total=df2_[df2_['Sex']==val].shape[0]\n",
    "total"
   ]
  },
  {
   "cell_type": "markdown",
   "metadata": {},
   "source": [
    "#### Passo 4. Associar esse resultado com a frequencia da variavel dependente"
   ]
  },
  {
   "cell_type": "code",
   "execution_count": 10,
   "metadata": {},
   "outputs": [
    {
     "name": "stdout",
     "output_type": "stream",
     "text": [
      "total de nao 485\n",
      "total de sim 205\n"
     ]
    }
   ],
   "source": [
    "nao=df2_[(df2_['Sex']==val)&(df2_['default']=='no')].shape[0]\n",
    "sim=total-nao\n",
    "print(\"total de nao\", nao)\n",
    "print(\"total de sim\", sim)"
   ]
  },
  {
   "cell_type": "markdown",
   "metadata": {},
   "source": [
    "#### Passo 5. Criar o dataset"
   ]
  },
  {
   "cell_type": "code",
   "execution_count": 11,
   "metadata": {},
   "outputs": [
    {
     "data": {
      "text/html": [
       "<div>\n",
       "<style scoped>\n",
       "    .dataframe tbody tr th:only-of-type {\n",
       "        vertical-align: middle;\n",
       "    }\n",
       "\n",
       "    .dataframe tbody tr th {\n",
       "        vertical-align: top;\n",
       "    }\n",
       "\n",
       "    .dataframe thead th {\n",
       "        text-align: right;\n",
       "    }\n",
       "</style>\n",
       "<table border=\"1\" class=\"dataframe\">\n",
       "  <thead>\n",
       "    <tr style=\"text-align: right;\">\n",
       "      <th></th>\n",
       "      <th>Carac</th>\n",
       "      <th>Total</th>\n",
       "      <th>BOM</th>\n",
       "      <th>MAL</th>\n",
       "    </tr>\n",
       "  </thead>\n",
       "  <tbody>\n",
       "    <tr>\n",
       "      <th>0</th>\n",
       "      <td>male</td>\n",
       "      <td>690</td>\n",
       "      <td>485</td>\n",
       "      <td>205</td>\n",
       "    </tr>\n",
       "  </tbody>\n",
       "</table>\n",
       "</div>"
      ],
      "text/plain": [
       "  Carac  Total  BOM  MAL\n",
       "0  male    690  485  205"
      ]
     },
     "execution_count": 11,
     "metadata": {},
     "output_type": "execute_result"
    }
   ],
   "source": [
    "lista=[]\n",
    "lista.append({\n",
    "    'Carac':val,\n",
    "    'Total':total,\n",
    "    'BOM': nao,\n",
    "    'MAL': sim\n",
    "})\n",
    "dataset=pd.DataFrame(lista)\n",
    "dataset"
   ]
  },
  {
   "cell_type": "markdown",
   "metadata": {},
   "source": [
    "Agora que temos pronta a ideia de como é feito o cálculo da frequencia de cada uma das caracteristicas da variavel, vamos colocar a mesma em uma formula para poder ser aplicada a todas as variaveis. Veja que temos que fazer pequenas modificações na formula como, por exemplo, o loop que ira repetir a formula quantas vezes for necessario para produzir o resultado para todas as caracteristicas da variavel."
   ]
  },
  {
   "cell_type": "code",
   "execution_count": 12,
   "metadata": {},
   "outputs": [],
   "source": [
    "def parte1(df,indep,dep,default='no'):\n",
    "    # df: banco de dados original\n",
    "    # indep: nome da variavel independente\n",
    "    # dep: nome da variavel dependente\n",
    "    # default: caracateristica (nome) dado a pessoa que pagou o credito (no: default)\n",
    "    s1=time.time()\n",
    "    df2_=df[[indep,dep]]\n",
    "    carac=df2_[indep].nunique()\n",
    "    lista=[]\n",
    "    for a in range(carac):\n",
    "        val=df2_[indep].unique()[a]\n",
    "        total=df2_[df2_[indep]==val].shape[0]\n",
    "        bom=df2_[(df2_[indep]==val)&(df2_[dep]==default)].shape[0]\n",
    "        mal=total-bom\n",
    "        lista.append({\n",
    "            'Carac':val,\n",
    "            'Total':total,\n",
    "            'BOM': bom, #bom pagador\n",
    "            'MAL': mal})\n",
    "    dataset=pd.DataFrame(lista)\n",
    "    s2=time.time()\n",
    "    print(\"tempo decorrido: \",s2-s1)\n",
    "    return dataset"
   ]
  },
  {
   "cell_type": "markdown",
   "metadata": {},
   "source": [
    "Vamos ver se isso funciona para identificar como seria a distribuição dos dados para a característica sexo entre bom e mal pagador."
   ]
  },
  {
   "cell_type": "code",
   "execution_count": 13,
   "metadata": {},
   "outputs": [
    {
     "name": "stdout",
     "output_type": "stream",
     "text": [
      "tempo decorrido:  0.005656003952026367\n"
     ]
    },
    {
     "data": {
      "text/html": [
       "<div>\n",
       "<style scoped>\n",
       "    .dataframe tbody tr th:only-of-type {\n",
       "        vertical-align: middle;\n",
       "    }\n",
       "\n",
       "    .dataframe tbody tr th {\n",
       "        vertical-align: top;\n",
       "    }\n",
       "\n",
       "    .dataframe thead th {\n",
       "        text-align: right;\n",
       "    }\n",
       "</style>\n",
       "<table border=\"1\" class=\"dataframe\">\n",
       "  <thead>\n",
       "    <tr style=\"text-align: right;\">\n",
       "      <th></th>\n",
       "      <th>Carac</th>\n",
       "      <th>Total</th>\n",
       "      <th>BOM</th>\n",
       "      <th>MAL</th>\n",
       "    </tr>\n",
       "  </thead>\n",
       "  <tbody>\n",
       "    <tr>\n",
       "      <th>0</th>\n",
       "      <td>male</td>\n",
       "      <td>690</td>\n",
       "      <td>485</td>\n",
       "      <td>205</td>\n",
       "    </tr>\n",
       "    <tr>\n",
       "      <th>1</th>\n",
       "      <td>female</td>\n",
       "      <td>310</td>\n",
       "      <td>222</td>\n",
       "      <td>88</td>\n",
       "    </tr>\n",
       "  </tbody>\n",
       "</table>\n",
       "</div>"
      ],
      "text/plain": [
       "    Carac  Total  BOM  MAL\n",
       "0    male    690  485  205\n",
       "1  female    310  222   88"
      ]
     },
     "execution_count": 13,
     "metadata": {},
     "output_type": "execute_result"
    }
   ],
   "source": [
    "sexo=parte1(df,'Sex','default',default='no')\n",
    "sexo"
   ]
  },
  {
   "cell_type": "markdown",
   "metadata": {},
   "source": [
    "funcionou!"
   ]
  },
  {
   "cell_type": "markdown",
   "metadata": {},
   "source": [
    "O que essa formula que criamos faz é simplemente encontrar como que os dados de uma variavel estão distribuidos em suas diferentes caracteristicas e tambem de acordo com a caracteristica da variavel dependente. Vamos aplicar a uma outra variavel para testar:"
   ]
  },
  {
   "cell_type": "code",
   "execution_count": 14,
   "metadata": {},
   "outputs": [
    {
     "name": "stdout",
     "output_type": "stream",
     "text": [
      "tempo decorrido:  0.00655674934387207\n"
     ]
    },
    {
     "data": {
      "text/html": [
       "<div>\n",
       "<style scoped>\n",
       "    .dataframe tbody tr th:only-of-type {\n",
       "        vertical-align: middle;\n",
       "    }\n",
       "\n",
       "    .dataframe tbody tr th {\n",
       "        vertical-align: top;\n",
       "    }\n",
       "\n",
       "    .dataframe thead th {\n",
       "        text-align: right;\n",
       "    }\n",
       "</style>\n",
       "<table border=\"1\" class=\"dataframe\">\n",
       "  <thead>\n",
       "    <tr style=\"text-align: right;\">\n",
       "      <th></th>\n",
       "      <th>Carac</th>\n",
       "      <th>Total</th>\n",
       "      <th>BOM</th>\n",
       "      <th>MAL</th>\n",
       "    </tr>\n",
       "  </thead>\n",
       "  <tbody>\n",
       "    <tr>\n",
       "      <th>0</th>\n",
       "      <td>little</td>\n",
       "      <td>668</td>\n",
       "      <td>469</td>\n",
       "      <td>199</td>\n",
       "    </tr>\n",
       "    <tr>\n",
       "      <th>1</th>\n",
       "      <td>moderate</td>\n",
       "      <td>269</td>\n",
       "      <td>192</td>\n",
       "      <td>77</td>\n",
       "    </tr>\n",
       "    <tr>\n",
       "      <th>2</th>\n",
       "      <td>rich</td>\n",
       "      <td>63</td>\n",
       "      <td>46</td>\n",
       "      <td>17</td>\n",
       "    </tr>\n",
       "  </tbody>\n",
       "</table>\n",
       "</div>"
      ],
      "text/plain": [
       "      Carac  Total  BOM  MAL\n",
       "0    little    668  469  199\n",
       "1  moderate    269  192   77\n",
       "2      rich     63   46   17"
      ]
     },
     "execution_count": 14,
     "metadata": {},
     "output_type": "execute_result"
    }
   ],
   "source": [
    "CA=parte1(df,'Checking account','default',default='no')\n",
    "CA"
   ]
  },
  {
   "cell_type": "markdown",
   "metadata": {},
   "source": [
    "Aqui vale um alerta. Essa função não funciona, por exemplo, para variáveis contínuas como idade e renda. Antes de usar nessas variáveis devemos transformar elas em intervalos (bins). Faremos isso mais a frente. <br>\n",
    "Após determinar a frequência das características, o proximo passo seria encontrar o WOE para, posteriormente, determinar o IV - Information Value."
   ]
  },
  {
   "cell_type": "markdown",
   "metadata": {},
   "source": [
    "6. frequencia do BOM pagador\n",
    "7. frequencia do MAL pagador\n",
    "8. aplicar a formula do WOE\n",
    "9. calcular o IV para cada característica\n",
    "10. Calcular o IV total de cada variável"
   ]
  },
  {
   "cell_type": "markdown",
   "metadata": {},
   "source": [
    "partimos do resultado encontrado após aplicar a parte 1 acima:"
   ]
  },
  {
   "cell_type": "markdown",
   "metadata": {},
   "source": [
    "#### Passo 6. encontrar a frequência com que acontece o evento \"nao-default\""
   ]
  },
  {
   "cell_type": "code",
   "execution_count": 15,
   "metadata": {},
   "outputs": [
    {
     "data": {
      "text/html": [
       "<div>\n",
       "<style scoped>\n",
       "    .dataframe tbody tr th:only-of-type {\n",
       "        vertical-align: middle;\n",
       "    }\n",
       "\n",
       "    .dataframe tbody tr th {\n",
       "        vertical-align: top;\n",
       "    }\n",
       "\n",
       "    .dataframe thead th {\n",
       "        text-align: right;\n",
       "    }\n",
       "</style>\n",
       "<table border=\"1\" class=\"dataframe\">\n",
       "  <thead>\n",
       "    <tr style=\"text-align: right;\">\n",
       "      <th></th>\n",
       "      <th>Carac</th>\n",
       "      <th>Total</th>\n",
       "      <th>BOM</th>\n",
       "      <th>MAL</th>\n",
       "      <th>distBom</th>\n",
       "    </tr>\n",
       "  </thead>\n",
       "  <tbody>\n",
       "    <tr>\n",
       "      <th>0</th>\n",
       "      <td>male</td>\n",
       "      <td>690</td>\n",
       "      <td>485</td>\n",
       "      <td>205</td>\n",
       "      <td>0.685997</td>\n",
       "    </tr>\n",
       "    <tr>\n",
       "      <th>1</th>\n",
       "      <td>female</td>\n",
       "      <td>310</td>\n",
       "      <td>222</td>\n",
       "      <td>88</td>\n",
       "      <td>0.314003</td>\n",
       "    </tr>\n",
       "  </tbody>\n",
       "</table>\n",
       "</div>"
      ],
      "text/plain": [
       "    Carac  Total  BOM  MAL   distBom\n",
       "0    male    690  485  205  0.685997\n",
       "1  female    310  222   88  0.314003"
      ]
     },
     "execution_count": 15,
     "metadata": {},
     "output_type": "execute_result"
    }
   ],
   "source": [
    "sexo['distBom']=sexo['BOM']/(sexo['BOM'].sum())\n",
    "sexo"
   ]
  },
  {
   "cell_type": "markdown",
   "metadata": {},
   "source": [
    "#### Passo 7. encontrar a frequência do mal pagador \"default\""
   ]
  },
  {
   "cell_type": "code",
   "execution_count": 16,
   "metadata": {},
   "outputs": [
    {
     "data": {
      "text/html": [
       "<div>\n",
       "<style scoped>\n",
       "    .dataframe tbody tr th:only-of-type {\n",
       "        vertical-align: middle;\n",
       "    }\n",
       "\n",
       "    .dataframe tbody tr th {\n",
       "        vertical-align: top;\n",
       "    }\n",
       "\n",
       "    .dataframe thead th {\n",
       "        text-align: right;\n",
       "    }\n",
       "</style>\n",
       "<table border=\"1\" class=\"dataframe\">\n",
       "  <thead>\n",
       "    <tr style=\"text-align: right;\">\n",
       "      <th></th>\n",
       "      <th>Carac</th>\n",
       "      <th>Total</th>\n",
       "      <th>BOM</th>\n",
       "      <th>MAL</th>\n",
       "      <th>distBom</th>\n",
       "      <th>distMal</th>\n",
       "    </tr>\n",
       "  </thead>\n",
       "  <tbody>\n",
       "    <tr>\n",
       "      <th>0</th>\n",
       "      <td>male</td>\n",
       "      <td>690</td>\n",
       "      <td>485</td>\n",
       "      <td>205</td>\n",
       "      <td>0.685997</td>\n",
       "      <td>0.699659</td>\n",
       "    </tr>\n",
       "    <tr>\n",
       "      <th>1</th>\n",
       "      <td>female</td>\n",
       "      <td>310</td>\n",
       "      <td>222</td>\n",
       "      <td>88</td>\n",
       "      <td>0.314003</td>\n",
       "      <td>0.300341</td>\n",
       "    </tr>\n",
       "  </tbody>\n",
       "</table>\n",
       "</div>"
      ],
      "text/plain": [
       "    Carac  Total  BOM  MAL   distBom   distMal\n",
       "0    male    690  485  205  0.685997  0.699659\n",
       "1  female    310  222   88  0.314003  0.300341"
      ]
     },
     "execution_count": 16,
     "metadata": {},
     "output_type": "execute_result"
    }
   ],
   "source": [
    "sexo['distMal']=sexo['MAL']/(sexo['MAL'].sum())\n",
    "sexo"
   ]
  },
  {
   "cell_type": "markdown",
   "metadata": {},
   "source": [
    "#### Passo 8. aplicar a fórmula do WOE"
   ]
  },
  {
   "cell_type": "code",
   "execution_count": 17,
   "metadata": {},
   "outputs": [
    {
     "data": {
      "text/html": [
       "<div>\n",
       "<style scoped>\n",
       "    .dataframe tbody tr th:only-of-type {\n",
       "        vertical-align: middle;\n",
       "    }\n",
       "\n",
       "    .dataframe tbody tr th {\n",
       "        vertical-align: top;\n",
       "    }\n",
       "\n",
       "    .dataframe thead th {\n",
       "        text-align: right;\n",
       "    }\n",
       "</style>\n",
       "<table border=\"1\" class=\"dataframe\">\n",
       "  <thead>\n",
       "    <tr style=\"text-align: right;\">\n",
       "      <th></th>\n",
       "      <th>Carac</th>\n",
       "      <th>Total</th>\n",
       "      <th>BOM</th>\n",
       "      <th>MAL</th>\n",
       "      <th>distBom</th>\n",
       "      <th>distMal</th>\n",
       "      <th>woe</th>\n",
       "    </tr>\n",
       "  </thead>\n",
       "  <tbody>\n",
       "    <tr>\n",
       "      <th>0</th>\n",
       "      <td>male</td>\n",
       "      <td>690</td>\n",
       "      <td>485</td>\n",
       "      <td>205</td>\n",
       "      <td>0.685997</td>\n",
       "      <td>0.699659</td>\n",
       "      <td>-0.019719</td>\n",
       "    </tr>\n",
       "    <tr>\n",
       "      <th>1</th>\n",
       "      <td>female</td>\n",
       "      <td>310</td>\n",
       "      <td>222</td>\n",
       "      <td>88</td>\n",
       "      <td>0.314003</td>\n",
       "      <td>0.300341</td>\n",
       "      <td>0.044483</td>\n",
       "    </tr>\n",
       "  </tbody>\n",
       "</table>\n",
       "</div>"
      ],
      "text/plain": [
       "    Carac  Total  BOM  MAL   distBom   distMal       woe\n",
       "0    male    690  485  205  0.685997  0.699659 -0.019719\n",
       "1  female    310  222   88  0.314003  0.300341  0.044483"
      ]
     },
     "execution_count": 17,
     "metadata": {},
     "output_type": "execute_result"
    }
   ],
   "source": [
    "sexo['woe']=np.log(sexo['distBom']/sexo['distMal'])\n",
    "sexo"
   ]
  },
  {
   "cell_type": "markdown",
   "metadata": {},
   "source": [
    "#### Passo 9. encontrar o IV para cada característica"
   ]
  },
  {
   "cell_type": "code",
   "execution_count": 18,
   "metadata": {},
   "outputs": [
    {
     "data": {
      "text/html": [
       "<div>\n",
       "<style scoped>\n",
       "    .dataframe tbody tr th:only-of-type {\n",
       "        vertical-align: middle;\n",
       "    }\n",
       "\n",
       "    .dataframe tbody tr th {\n",
       "        vertical-align: top;\n",
       "    }\n",
       "\n",
       "    .dataframe thead th {\n",
       "        text-align: right;\n",
       "    }\n",
       "</style>\n",
       "<table border=\"1\" class=\"dataframe\">\n",
       "  <thead>\n",
       "    <tr style=\"text-align: right;\">\n",
       "      <th></th>\n",
       "      <th>Carac</th>\n",
       "      <th>Total</th>\n",
       "      <th>BOM</th>\n",
       "      <th>MAL</th>\n",
       "      <th>distBom</th>\n",
       "      <th>distMal</th>\n",
       "      <th>woe</th>\n",
       "      <th>IV</th>\n",
       "    </tr>\n",
       "  </thead>\n",
       "  <tbody>\n",
       "    <tr>\n",
       "      <th>0</th>\n",
       "      <td>male</td>\n",
       "      <td>690</td>\n",
       "      <td>485</td>\n",
       "      <td>205</td>\n",
       "      <td>0.685997</td>\n",
       "      <td>0.699659</td>\n",
       "      <td>-0.019719</td>\n",
       "      <td>0.000269</td>\n",
       "    </tr>\n",
       "    <tr>\n",
       "      <th>1</th>\n",
       "      <td>female</td>\n",
       "      <td>310</td>\n",
       "      <td>222</td>\n",
       "      <td>88</td>\n",
       "      <td>0.314003</td>\n",
       "      <td>0.300341</td>\n",
       "      <td>0.044483</td>\n",
       "      <td>0.000608</td>\n",
       "    </tr>\n",
       "  </tbody>\n",
       "</table>\n",
       "</div>"
      ],
      "text/plain": [
       "    Carac  Total  BOM  MAL   distBom   distMal       woe        IV\n",
       "0    male    690  485  205  0.685997  0.699659 -0.019719  0.000269\n",
       "1  female    310  222   88  0.314003  0.300341  0.044483  0.000608"
      ]
     },
     "execution_count": 18,
     "metadata": {},
     "output_type": "execute_result"
    }
   ],
   "source": [
    "sexo['IV']=(sexo['distBom']-sexo['distMal'])*sexo['woe']\n",
    "sexo"
   ]
  },
  {
   "cell_type": "markdown",
   "metadata": {},
   "source": [
    "#### Passo 10. encontrando o IV total da variável"
   ]
  },
  {
   "cell_type": "code",
   "execution_count": 19,
   "metadata": {},
   "outputs": [
    {
     "name": "stdout",
     "output_type": "stream",
     "text": [
      "0.0008770929676122427\n"
     ]
    },
    {
     "data": {
      "text/html": [
       "<div>\n",
       "<style scoped>\n",
       "    .dataframe tbody tr th:only-of-type {\n",
       "        vertical-align: middle;\n",
       "    }\n",
       "\n",
       "    .dataframe tbody tr th {\n",
       "        vertical-align: top;\n",
       "    }\n",
       "\n",
       "    .dataframe thead th {\n",
       "        text-align: right;\n",
       "    }\n",
       "</style>\n",
       "<table border=\"1\" class=\"dataframe\">\n",
       "  <thead>\n",
       "    <tr style=\"text-align: right;\">\n",
       "      <th></th>\n",
       "      <th>Carac</th>\n",
       "      <th>Total</th>\n",
       "      <th>BOM</th>\n",
       "      <th>MAL</th>\n",
       "      <th>distBom</th>\n",
       "      <th>distMal</th>\n",
       "      <th>woe</th>\n",
       "      <th>IV</th>\n",
       "    </tr>\n",
       "  </thead>\n",
       "  <tbody>\n",
       "    <tr>\n",
       "      <th>0</th>\n",
       "      <td>male</td>\n",
       "      <td>690</td>\n",
       "      <td>485</td>\n",
       "      <td>205</td>\n",
       "      <td>0.685997</td>\n",
       "      <td>0.699659</td>\n",
       "      <td>-0.019719</td>\n",
       "      <td>0.000269</td>\n",
       "    </tr>\n",
       "    <tr>\n",
       "      <th>1</th>\n",
       "      <td>female</td>\n",
       "      <td>310</td>\n",
       "      <td>222</td>\n",
       "      <td>88</td>\n",
       "      <td>0.314003</td>\n",
       "      <td>0.300341</td>\n",
       "      <td>0.044483</td>\n",
       "      <td>0.000608</td>\n",
       "    </tr>\n",
       "  </tbody>\n",
       "</table>\n",
       "</div>"
      ],
      "text/plain": [
       "    Carac  Total  BOM  MAL   distBom   distMal       woe        IV\n",
       "0    male    690  485  205  0.685997  0.699659 -0.019719  0.000269\n",
       "1  female    310  222   88  0.314003  0.300341  0.044483  0.000608"
      ]
     },
     "execution_count": 19,
     "metadata": {},
     "output_type": "execute_result"
    }
   ],
   "source": [
    "IV=sexo['IV'].sum()\n",
    "print(IV)\n",
    "sexo"
   ]
  },
  {
   "cell_type": "markdown",
   "metadata": {},
   "source": [
    "Veja que agora o resultado final ficou mais completo, onde temos o percentual de incidência da característica bom pagador e mal pagador para cada uma das características da variável independente analisada. Além disso, temos a estatística woe e iv para essas características. Mas, o que é o IV?"
   ]
  },
  {
   "cell_type": "markdown",
   "metadata": {},
   "source": [
    "#### IV - Information Value"
   ]
  },
  {
   "cell_type": "markdown",
   "metadata": {},
   "source": [
    "É um otimo conceito para ser usado na construcao de um credit scorecard e pode dar uma sinalizacao da capacidade preditiva do modelo. O IV é calculado apos termos o resultado do WOE para cada um dos intervalos das variáveis independentes. Assim, de posse do WOE, usamos: <br>\n",
    "<br>\n",
    "![](iv.png)\n",
    "<br>\n",
    "iv<0.02 --> nao faz sentido usar na previsao  <br>\n",
    "0.02 - 0.1 --> fraca  <br>\n",
    "0.1 - 0.3 --> media capacidade de previsao  <br>\n",
    "maior que 0.3 --> forte previsor   <br>"
   ]
  },
  {
   "cell_type": "markdown",
   "metadata": {},
   "source": [
    "Agora que temos pronta a lógica da segunda parte, podemos colocar o mesmo em uma função, procurando preservar os mesmos nomes de inputs usados na função da parte 1:"
   ]
  },
  {
   "cell_type": "code",
   "execution_count": 20,
   "metadata": {},
   "outputs": [],
   "source": [
    "def parte2(df):\n",
    "    # nome do banco de dados que sai do resultado da parte 1\n",
    "    s1=time.time()\n",
    "    df['distBom']=df['BOM']/(df['BOM'].sum())\n",
    "    df['distMal']=df['MAL']/(df['MAL'].sum())\n",
    "    df['woe']=np.log(df['distBom']/df['distMal'])\n",
    "    df['IV']=(df['distBom']-df['distMal'])*df['woe']\n",
    "    IV=df['IV'].sum()\n",
    "    print(\"Information Value\",IV)\n",
    "    s2=time.time()\n",
    "    print(\"tempo decorrido: \",s2-s1)\n",
    "    return df,IV"
   ]
  },
  {
   "cell_type": "markdown",
   "metadata": {},
   "source": [
    "Vamos testar a nossa função para ver se funciona..."
   ]
  },
  {
   "cell_type": "code",
   "execution_count": 21,
   "metadata": {},
   "outputs": [
    {
     "name": "stdout",
     "output_type": "stream",
     "text": [
      "Information Value 0.0008770929676122427\n",
      "tempo decorrido:  0.0025568008422851562\n"
     ]
    },
    {
     "data": {
      "text/html": [
       "<div>\n",
       "<style scoped>\n",
       "    .dataframe tbody tr th:only-of-type {\n",
       "        vertical-align: middle;\n",
       "    }\n",
       "\n",
       "    .dataframe tbody tr th {\n",
       "        vertical-align: top;\n",
       "    }\n",
       "\n",
       "    .dataframe thead th {\n",
       "        text-align: right;\n",
       "    }\n",
       "</style>\n",
       "<table border=\"1\" class=\"dataframe\">\n",
       "  <thead>\n",
       "    <tr style=\"text-align: right;\">\n",
       "      <th></th>\n",
       "      <th>Carac</th>\n",
       "      <th>Total</th>\n",
       "      <th>BOM</th>\n",
       "      <th>MAL</th>\n",
       "      <th>distBom</th>\n",
       "      <th>distMal</th>\n",
       "      <th>woe</th>\n",
       "      <th>IV</th>\n",
       "    </tr>\n",
       "  </thead>\n",
       "  <tbody>\n",
       "    <tr>\n",
       "      <th>0</th>\n",
       "      <td>male</td>\n",
       "      <td>690</td>\n",
       "      <td>485</td>\n",
       "      <td>205</td>\n",
       "      <td>0.685997</td>\n",
       "      <td>0.699659</td>\n",
       "      <td>-0.019719</td>\n",
       "      <td>0.000269</td>\n",
       "    </tr>\n",
       "    <tr>\n",
       "      <th>1</th>\n",
       "      <td>female</td>\n",
       "      <td>310</td>\n",
       "      <td>222</td>\n",
       "      <td>88</td>\n",
       "      <td>0.314003</td>\n",
       "      <td>0.300341</td>\n",
       "      <td>0.044483</td>\n",
       "      <td>0.000608</td>\n",
       "    </tr>\n",
       "  </tbody>\n",
       "</table>\n",
       "</div>"
      ],
      "text/plain": [
       "    Carac  Total  BOM  MAL   distBom   distMal       woe        IV\n",
       "0    male    690  485  205  0.685997  0.699659 -0.019719  0.000269\n",
       "1  female    310  222   88  0.314003  0.300341  0.044483  0.000608"
      ]
     },
     "execution_count": 21,
     "metadata": {},
     "output_type": "execute_result"
    }
   ],
   "source": [
    "df3_,IV3_=parte2(sexo)\n",
    "df3_"
   ]
  },
  {
   "cell_type": "markdown",
   "metadata": {},
   "source": [
    "funcionou novamente...."
   ]
  },
  {
   "cell_type": "markdown",
   "metadata": {},
   "source": [
    "Ao inves de deixar as duas partes em funções distintas, podemos juntar essas duas funções em uma só, facilitando a sua aplicação. Fazemos isso abaixo:"
   ]
  },
  {
   "cell_type": "code",
   "execution_count": 22,
   "metadata": {},
   "outputs": [],
   "source": [
    "def woe_iv(dataset,indep,dep,default='no'):\n",
    "    # dataset: banco de dados original\n",
    "    # indep: nome da variavel independente\n",
    "    # dep: nome da variavel dependente\n",
    "    # default: caracateristica (nome) dado a pessoa que pagou o credito\n",
    "    s1=time.time()\n",
    "    df2_=dataset[[indep,dep]]\n",
    "    carac=df2_[indep].nunique()\n",
    "    lista=[]\n",
    "    for a in range(carac):\n",
    "        val=df2_[indep].unique()[a]\n",
    "        total=df2_[df2_[indep]==val].shape[0]\n",
    "        bom=df2_[(df2_[indep]==val)&(df2_[dep]==default)].shape[0]\n",
    "        mal=total-bom\n",
    "        lista.append({\n",
    "            'Carac':val,\n",
    "            'Total':total,\n",
    "            'BOM': bom,  #bom pagador\n",
    "            'MAL': mal})\n",
    "    df=pd.DataFrame(lista)\n",
    "    #\n",
    "    df['distBom']=df['BOM']/(df['BOM'].sum())\n",
    "    df['distMal']=df['MAL']/(df['MAL'].sum())\n",
    "    df['woe']=np.log(df['distBom']/df['distMal'])\n",
    "    df['IV']=(df['distBom']-df['distMal'])*df['woe']\n",
    "    IV=df['IV'].sum()\n",
    "    print(\"Information Value \" + indep + ':',IV)\n",
    "    s2=time.time()\n",
    "    print(\"tempo decorrido: \",s2-s1)\n",
    "    return df,IV,indep"
   ]
  },
  {
   "cell_type": "markdown",
   "metadata": {},
   "source": [
    "e agora vamos testar na variavel sex para ver se o resultado fica igual...."
   ]
  },
  {
   "cell_type": "code",
   "execution_count": 23,
   "metadata": {},
   "outputs": [
    {
     "name": "stdout",
     "output_type": "stream",
     "text": [
      "Information Value Sex: 0.0008770929676122427\n",
      "tempo decorrido:  0.009692192077636719\n"
     ]
    },
    {
     "data": {
      "text/html": [
       "<div>\n",
       "<style scoped>\n",
       "    .dataframe tbody tr th:only-of-type {\n",
       "        vertical-align: middle;\n",
       "    }\n",
       "\n",
       "    .dataframe tbody tr th {\n",
       "        vertical-align: top;\n",
       "    }\n",
       "\n",
       "    .dataframe thead th {\n",
       "        text-align: right;\n",
       "    }\n",
       "</style>\n",
       "<table border=\"1\" class=\"dataframe\">\n",
       "  <thead>\n",
       "    <tr style=\"text-align: right;\">\n",
       "      <th></th>\n",
       "      <th>Carac</th>\n",
       "      <th>Total</th>\n",
       "      <th>BOM</th>\n",
       "      <th>MAL</th>\n",
       "      <th>distBom</th>\n",
       "      <th>distMal</th>\n",
       "      <th>woe</th>\n",
       "      <th>IV</th>\n",
       "    </tr>\n",
       "  </thead>\n",
       "  <tbody>\n",
       "    <tr>\n",
       "      <th>0</th>\n",
       "      <td>male</td>\n",
       "      <td>690</td>\n",
       "      <td>485</td>\n",
       "      <td>205</td>\n",
       "      <td>0.685997</td>\n",
       "      <td>0.699659</td>\n",
       "      <td>-0.019719</td>\n",
       "      <td>0.000269</td>\n",
       "    </tr>\n",
       "    <tr>\n",
       "      <th>1</th>\n",
       "      <td>female</td>\n",
       "      <td>310</td>\n",
       "      <td>222</td>\n",
       "      <td>88</td>\n",
       "      <td>0.314003</td>\n",
       "      <td>0.300341</td>\n",
       "      <td>0.044483</td>\n",
       "      <td>0.000608</td>\n",
       "    </tr>\n",
       "  </tbody>\n",
       "</table>\n",
       "</div>"
      ],
      "text/plain": [
       "    Carac  Total  BOM  MAL   distBom   distMal       woe        IV\n",
       "0    male    690  485  205  0.685997  0.699659 -0.019719  0.000269\n",
       "1  female    310  222   88  0.314003  0.300341  0.044483  0.000608"
      ]
     },
     "execution_count": 23,
     "metadata": {},
     "output_type": "execute_result"
    }
   ],
   "source": [
    "sexo3,iv,indep=woe_iv(dataset=df,indep='Sex',dep='default',default='no')\n",
    "sexo3"
   ]
  },
  {
   "cell_type": "markdown",
   "metadata": {},
   "source": [
    "Muito bem, agora temos o desafio de criar um loop que ira percorrer o nosso dataset e aplicar a cada uma das variaveis esse calculo e retornar o resultado em um dataframe. Mas antes de fazer isso temos que criar os intervalos (bins) para as nossas variaveis continuas. Para tanto usamos a função qcut() do pandas."
   ]
  },
  {
   "cell_type": "code",
   "execution_count": 26,
   "metadata": {},
   "outputs": [],
   "source": [
    "variaveis=['Age','Credit amount','Duration']\n",
    "df_=df.copy()\n",
    "for v in variaveis:\n",
    "    df_[v+'_bin']=pd.qcut(df_[v],5)\n",
    "    df_.drop([v],axis=1,inplace=True)"
   ]
  },
  {
   "cell_type": "code",
   "execution_count": 27,
   "metadata": {},
   "outputs": [
    {
     "data": {
      "text/html": [
       "<div>\n",
       "<style scoped>\n",
       "    .dataframe tbody tr th:only-of-type {\n",
       "        vertical-align: middle;\n",
       "    }\n",
       "\n",
       "    .dataframe tbody tr th {\n",
       "        vertical-align: top;\n",
       "    }\n",
       "\n",
       "    .dataframe thead th {\n",
       "        text-align: right;\n",
       "    }\n",
       "</style>\n",
       "<table border=\"1\" class=\"dataframe\">\n",
       "  <thead>\n",
       "    <tr style=\"text-align: right;\">\n",
       "      <th></th>\n",
       "      <th>Sex</th>\n",
       "      <th>Job</th>\n",
       "      <th>Housing</th>\n",
       "      <th>Saving accounts</th>\n",
       "      <th>Checking account</th>\n",
       "      <th>Purpose</th>\n",
       "      <th>default</th>\n",
       "      <th>Age_bin</th>\n",
       "      <th>Credit amount_bin</th>\n",
       "      <th>Duration_bin</th>\n",
       "    </tr>\n",
       "  </thead>\n",
       "  <tbody>\n",
       "    <tr>\n",
       "      <th>0</th>\n",
       "      <td>male</td>\n",
       "      <td>2</td>\n",
       "      <td>own</td>\n",
       "      <td>little</td>\n",
       "      <td>little</td>\n",
       "      <td>radio/TV</td>\n",
       "      <td>yes</td>\n",
       "      <td>(45.0, 75.0]</td>\n",
       "      <td>(249.999, 1262.0]</td>\n",
       "      <td>(3.999, 12.0]</td>\n",
       "    </tr>\n",
       "    <tr>\n",
       "      <th>1</th>\n",
       "      <td>female</td>\n",
       "      <td>2</td>\n",
       "      <td>own</td>\n",
       "      <td>little</td>\n",
       "      <td>moderate</td>\n",
       "      <td>radio/TV</td>\n",
       "      <td>no</td>\n",
       "      <td>(18.999, 26.0]</td>\n",
       "      <td>(4720.0, 18424.0]</td>\n",
       "      <td>(30.0, 72.0]</td>\n",
       "    </tr>\n",
       "    <tr>\n",
       "      <th>2</th>\n",
       "      <td>male</td>\n",
       "      <td>1</td>\n",
       "      <td>own</td>\n",
       "      <td>little</td>\n",
       "      <td>little</td>\n",
       "      <td>education</td>\n",
       "      <td>yes</td>\n",
       "      <td>(45.0, 75.0]</td>\n",
       "      <td>(1906.8, 2852.4]</td>\n",
       "      <td>(3.999, 12.0]</td>\n",
       "    </tr>\n",
       "    <tr>\n",
       "      <th>3</th>\n",
       "      <td>male</td>\n",
       "      <td>2</td>\n",
       "      <td>free</td>\n",
       "      <td>little</td>\n",
       "      <td>little</td>\n",
       "      <td>furniture/equipment</td>\n",
       "      <td>no</td>\n",
       "      <td>(36.0, 45.0]</td>\n",
       "      <td>(4720.0, 18424.0]</td>\n",
       "      <td>(30.0, 72.0]</td>\n",
       "    </tr>\n",
       "  </tbody>\n",
       "</table>\n",
       "</div>"
      ],
      "text/plain": [
       "      Sex  Job Housing Saving accounts Checking account              Purpose  \\\n",
       "0    male    2     own          little           little             radio/TV   \n",
       "1  female    2     own          little         moderate             radio/TV   \n",
       "2    male    1     own          little           little            education   \n",
       "3    male    2    free          little           little  furniture/equipment   \n",
       "\n",
       "  default         Age_bin  Credit amount_bin   Duration_bin  \n",
       "0     yes    (45.0, 75.0]  (249.999, 1262.0]  (3.999, 12.0]  \n",
       "1      no  (18.999, 26.0]  (4720.0, 18424.0]   (30.0, 72.0]  \n",
       "2     yes    (45.0, 75.0]   (1906.8, 2852.4]  (3.999, 12.0]  \n",
       "3      no    (36.0, 45.0]  (4720.0, 18424.0]   (30.0, 72.0]  "
      ]
     },
     "execution_count": 27,
     "metadata": {},
     "output_type": "execute_result"
    }
   ],
   "source": [
    "df_.head(4)"
   ]
  },
  {
   "cell_type": "markdown",
   "metadata": {},
   "source": [
    "Agora podemos fazer o loop da nossa função para todo o dataset"
   ]
  },
  {
   "cell_type": "code",
   "execution_count": 28,
   "metadata": {},
   "outputs": [
    {
     "name": "stdout",
     "output_type": "stream",
     "text": [
      "Information Value Sex: 0.0008770929676122427\n",
      "tempo decorrido:  0.009139060974121094\n",
      "Information Value Job: 0.003090885000194469\n",
      "tempo decorrido:  0.011207818984985352\n",
      "Information Value Housing: 0.0034260772034896024\n",
      "tempo decorrido:  0.012392997741699219\n",
      "Information Value Saving accounts: 0.03519607892842596\n",
      "tempo decorrido:  0.01363992691040039\n",
      "Information Value Checking account: 0.0014675097119170605\n",
      "tempo decorrido:  0.009927034378051758\n",
      "Information Value Purpose: 0.014359866945543436\n",
      "tempo decorrido:  0.01666092872619629\n",
      "Information Value Age_bin: 0.0041040346737758636\n",
      "tempo decorrido:  0.019838333129882812\n",
      "Information Value Credit amount_bin: 0.004990339586237911\n",
      "tempo decorrido:  0.018032073974609375\n",
      "Information Value Duration_bin: 0.008030317602742372\n",
      "tempo decorrido:  0.018218994140625\n"
     ]
    },
    {
     "data": {
      "text/html": [
       "<div>\n",
       "<style scoped>\n",
       "    .dataframe tbody tr th:only-of-type {\n",
       "        vertical-align: middle;\n",
       "    }\n",
       "\n",
       "    .dataframe tbody tr th {\n",
       "        vertical-align: top;\n",
       "    }\n",
       "\n",
       "    .dataframe thead th {\n",
       "        text-align: right;\n",
       "    }\n",
       "</style>\n",
       "<table border=\"1\" class=\"dataframe\">\n",
       "  <thead>\n",
       "    <tr style=\"text-align: right;\">\n",
       "      <th></th>\n",
       "      <th>variavel</th>\n",
       "      <th>iv_variavel</th>\n",
       "      <th>Carac</th>\n",
       "      <th>Total</th>\n",
       "      <th>BOM</th>\n",
       "      <th>MAU</th>\n",
       "      <th>distBom</th>\n",
       "      <th>distMau</th>\n",
       "      <th>woe</th>\n",
       "      <th>IV</th>\n",
       "    </tr>\n",
       "  </thead>\n",
       "  <tbody>\n",
       "    <tr>\n",
       "      <th>33</th>\n",
       "      <td>Credit amount_bin</td>\n",
       "      <td>0.00499</td>\n",
       "      <td>(1262.0, 1906.8]</td>\n",
       "      <td>199.0</td>\n",
       "      <td>140.0</td>\n",
       "      <td>59.0</td>\n",
       "      <td>0.198020</td>\n",
       "      <td>0.201365</td>\n",
       "      <td>-0.016753</td>\n",
       "      <td>0.000056</td>\n",
       "    </tr>\n",
       "    <tr>\n",
       "      <th>34</th>\n",
       "      <td>Duration_bin</td>\n",
       "      <td>0.00803</td>\n",
       "      <td>(3.999, 12.0]</td>\n",
       "      <td>359.0</td>\n",
       "      <td>251.0</td>\n",
       "      <td>108.0</td>\n",
       "      <td>0.355021</td>\n",
       "      <td>0.368601</td>\n",
       "      <td>-0.037536</td>\n",
       "      <td>0.000510</td>\n",
       "    </tr>\n",
       "    <tr>\n",
       "      <th>35</th>\n",
       "      <td>Duration_bin</td>\n",
       "      <td>0.00803</td>\n",
       "      <td>(30.0, 72.0]</td>\n",
       "      <td>173.0</td>\n",
       "      <td>122.0</td>\n",
       "      <td>51.0</td>\n",
       "      <td>0.172560</td>\n",
       "      <td>0.174061</td>\n",
       "      <td>-0.008663</td>\n",
       "      <td>0.000013</td>\n",
       "    </tr>\n",
       "    <tr>\n",
       "      <th>36</th>\n",
       "      <td>Duration_bin</td>\n",
       "      <td>0.00803</td>\n",
       "      <td>(15.0, 24.0]</td>\n",
       "      <td>339.0</td>\n",
       "      <td>237.0</td>\n",
       "      <td>102.0</td>\n",
       "      <td>0.335219</td>\n",
       "      <td>0.348123</td>\n",
       "      <td>-0.037771</td>\n",
       "      <td>0.000487</td>\n",
       "    </tr>\n",
       "    <tr>\n",
       "      <th>37</th>\n",
       "      <td>Duration_bin</td>\n",
       "      <td>0.00803</td>\n",
       "      <td>(24.0, 30.0]</td>\n",
       "      <td>57.0</td>\n",
       "      <td>42.0</td>\n",
       "      <td>15.0</td>\n",
       "      <td>0.059406</td>\n",
       "      <td>0.051195</td>\n",
       "      <td>0.148761</td>\n",
       "      <td>0.001222</td>\n",
       "    </tr>\n",
       "    <tr>\n",
       "      <th>38</th>\n",
       "      <td>Duration_bin</td>\n",
       "      <td>0.00803</td>\n",
       "      <td>(12.0, 15.0]</td>\n",
       "      <td>72.0</td>\n",
       "      <td>55.0</td>\n",
       "      <td>17.0</td>\n",
       "      <td>0.077793</td>\n",
       "      <td>0.058020</td>\n",
       "      <td>0.293262</td>\n",
       "      <td>0.005799</td>\n",
       "    </tr>\n",
       "  </tbody>\n",
       "</table>\n",
       "</div>"
      ],
      "text/plain": [
       "             variavel  iv_variavel             Carac  Total    BOM    MAU  \\\n",
       "33  Credit amount_bin      0.00499  (1262.0, 1906.8]  199.0  140.0   59.0   \n",
       "34       Duration_bin      0.00803     (3.999, 12.0]  359.0  251.0  108.0   \n",
       "35       Duration_bin      0.00803      (30.0, 72.0]  173.0  122.0   51.0   \n",
       "36       Duration_bin      0.00803      (15.0, 24.0]  339.0  237.0  102.0   \n",
       "37       Duration_bin      0.00803      (24.0, 30.0]   57.0   42.0   15.0   \n",
       "38       Duration_bin      0.00803      (12.0, 15.0]   72.0   55.0   17.0   \n",
       "\n",
       "     distBom   distMau       woe        IV  \n",
       "33  0.198020  0.201365 -0.016753  0.000056  \n",
       "34  0.355021  0.368601 -0.037536  0.000510  \n",
       "35  0.172560  0.174061 -0.008663  0.000013  \n",
       "36  0.335219  0.348123 -0.037771  0.000487  \n",
       "37  0.059406  0.051195  0.148761  0.001222  \n",
       "38  0.077793  0.058020  0.293262  0.005799  "
      ]
     },
     "execution_count": 28,
     "metadata": {},
     "output_type": "execute_result"
    }
   ],
   "source": [
    "woeiv=[]\n",
    "for c in df_.columns:\n",
    "    if c=='default': \n",
    "        continue\n",
    "    else:\n",
    "        woe,iv,var = woe_iv(dataset=df_,indep=c,dep='default',default='no')\n",
    "        for index, row in woe.iterrows():\n",
    "            woeiv.append({'variavel':var,\n",
    "                        'iv_variavel':iv,\n",
    "                        'Carac':row['Carac'],   \n",
    "                        'Total':row['Total'],\n",
    "                        'BOM':row['BOM'],     \n",
    "                        'MAU':row['MAL'],   \n",
    "                        'distBom':row['distBom'],  \n",
    "                        'distMau':row['distMal'],       \n",
    "                        'woe':row['woe'],        \n",
    "                        'IV':row['IV'],\n",
    "                        })\n",
    "woe2=pd.DataFrame(woeiv)\n",
    "woe2.tail(6)"
   ]
  },
  {
   "cell_type": "markdown",
   "metadata": {},
   "source": [
    "O que fizemos acima foi pegar cada variavel do banco de dados, calcular o woe para cada uma das características de uma variável e depois associar o valor de cada linha a respectiva característica. No caso de variáveis contínuas, primeiro criamos um intervalo para depois encontrar o woe e fazer a associação. <br>\n",
    "Agora temos um banco de dados onde os valores não correspondem mais aos valores originais mas, sim, ao seu respectivo \"woe\". Sendo assim, reduzimos o escopo de dados ao numero de \"woe\" que existe em cada variavel. O passo seguinte seria analisar o IV para saber qual dessas variaveis possui um melhor grau de explicação. Mas, antes disso, vamos ver, no notebook 3, como que  tudo o que foi feito acima pode ser facilmente reproduzido a partir de um pacote do python."
   ]
  }
 ],
 "metadata": {
  "kernelspec": {
   "display_name": "Python 3",
   "language": "python",
   "name": "python3"
  },
  "language_info": {
   "codemirror_mode": {
    "name": "ipython",
    "version": 3
   },
   "file_extension": ".py",
   "mimetype": "text/x-python",
   "name": "python",
   "nbconvert_exporter": "python",
   "pygments_lexer": "ipython3",
   "version": "3.8.3"
  }
 },
 "nbformat": 4,
 "nbformat_minor": 4
}
